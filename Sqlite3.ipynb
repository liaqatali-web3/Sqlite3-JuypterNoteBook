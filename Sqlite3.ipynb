{
 "cells": [
  {
   "cell_type": "code",
   "execution_count": 37,
   "id": "2d58200a",
   "metadata": {},
   "outputs": [],
   "source": [
    "#install wget to extract data from exteranal source"
   ]
  },
  {
   "cell_type": "code",
   "execution_count": 36,
   "id": "96adfcf5",
   "metadata": {},
   "outputs": [
    {
     "name": "stdout",
     "output_type": "stream",
     "text": [
      "Requirement already satisfied: wget in c:\\users\\amazon\\anaconda3\\lib\\site-packages (3.2)\n",
      "Note: you may need to restart the kernel to use updated packages.\n"
     ]
    }
   ],
   "source": [
    "pip install wget"
   ]
  },
  {
   "cell_type": "code",
   "execution_count": 38,
   "id": "a34f400e",
   "metadata": {},
   "outputs": [],
   "source": [
    "#Data get database from exteranal source"
   ]
  },
  {
   "cell_type": "code",
   "execution_count": 39,
   "id": "9320a514",
   "metadata": {},
   "outputs": [
    {
     "name": "stdout",
     "output_type": "stream",
     "text": [
      "\n",
      "Saved under classic_rock (1).db\n"
     ]
    }
   ],
   "source": [
    "!python -m wget https://cf-courses-data.s3.us.cloud-object-storage.appdomain.cloud/IBM-ML0232EN-SkillsNetwork/asset/classic_rock.db"
   ]
  },
  {
   "cell_type": "code",
   "execution_count": 40,
   "id": "e7693d84",
   "metadata": {},
   "outputs": [],
   "source": [
    "#import important libraries."
   ]
  },
  {
   "cell_type": "code",
   "execution_count": 41,
   "id": "9275e44e",
   "metadata": {},
   "outputs": [],
   "source": [
    "import pandas as pd\n",
    "import sqlite3 as sql3"
   ]
  },
  {
   "cell_type": "code",
   "execution_count": 42,
   "id": "99703b4d",
   "metadata": {},
   "outputs": [],
   "source": [
    "#specify database path"
   ]
  },
  {
   "cell_type": "code",
   "execution_count": 43,
   "id": "e6c57988",
   "metadata": {},
   "outputs": [],
   "source": [
    "path=\"classic_rock.db\""
   ]
  },
  {
   "cell_type": "code",
   "execution_count": 44,
   "id": "0279c8d6",
   "metadata": {},
   "outputs": [],
   "source": [
    "#create connection with database using sqlite libarary"
   ]
  },
  {
   "cell_type": "code",
   "execution_count": 45,
   "id": "7718efa1",
   "metadata": {},
   "outputs": [],
   "source": [
    "con=sql3.Connection(path)"
   ]
  },
  {
   "cell_type": "code",
   "execution_count": 46,
   "id": "bc035439",
   "metadata": {},
   "outputs": [],
   "source": [
    "#Now it is time to write query for extracting data"
   ]
  },
  {
   "cell_type": "code",
   "execution_count": 47,
   "id": "79162e57",
   "metadata": {},
   "outputs": [],
   "source": [
    "query=''' select * from rock_songs'''"
   ]
  },
  {
   "cell_type": "code",
   "execution_count": 48,
   "id": "4fb7a06e",
   "metadata": {},
   "outputs": [],
   "source": [
    "#Now let run query via pandas library"
   ]
  },
  {
   "cell_type": "code",
   "execution_count": 49,
   "id": "aa4c1206",
   "metadata": {},
   "outputs": [],
   "source": [
    "data=pd.read_sql(query,con)"
   ]
  },
  {
   "cell_type": "code",
   "execution_count": 50,
   "id": "bc843d38",
   "metadata": {},
   "outputs": [],
   "source": [
    "#Now lets show the data"
   ]
  },
  {
   "cell_type": "code",
   "execution_count": 51,
   "id": "41512e40",
   "metadata": {},
   "outputs": [
    {
     "data": {
      "text/html": [
       "<div>\n",
       "<style scoped>\n",
       "    .dataframe tbody tr th:only-of-type {\n",
       "        vertical-align: middle;\n",
       "    }\n",
       "\n",
       "    .dataframe tbody tr th {\n",
       "        vertical-align: top;\n",
       "    }\n",
       "\n",
       "    .dataframe thead th {\n",
       "        text-align: right;\n",
       "    }\n",
       "</style>\n",
       "<table border=\"1\" class=\"dataframe\">\n",
       "  <thead>\n",
       "    <tr style=\"text-align: right;\">\n",
       "      <th></th>\n",
       "      <th>Song</th>\n",
       "      <th>Artist</th>\n",
       "      <th>Release_Year</th>\n",
       "      <th>PlayCount</th>\n",
       "    </tr>\n",
       "  </thead>\n",
       "  <tbody>\n",
       "    <tr>\n",
       "      <th>0</th>\n",
       "      <td>Caught Up in You</td>\n",
       "      <td>.38 Special</td>\n",
       "      <td>1982.0</td>\n",
       "      <td>82</td>\n",
       "    </tr>\n",
       "    <tr>\n",
       "      <th>1</th>\n",
       "      <td>Hold On Loosely</td>\n",
       "      <td>.38 Special</td>\n",
       "      <td>1981.0</td>\n",
       "      <td>85</td>\n",
       "    </tr>\n",
       "    <tr>\n",
       "      <th>2</th>\n",
       "      <td>Rockin' Into the Night</td>\n",
       "      <td>.38 Special</td>\n",
       "      <td>1980.0</td>\n",
       "      <td>18</td>\n",
       "    </tr>\n",
       "    <tr>\n",
       "      <th>3</th>\n",
       "      <td>Art For Arts Sake</td>\n",
       "      <td>10cc</td>\n",
       "      <td>1975.0</td>\n",
       "      <td>1</td>\n",
       "    </tr>\n",
       "    <tr>\n",
       "      <th>4</th>\n",
       "      <td>Kryptonite</td>\n",
       "      <td>3 Doors Down</td>\n",
       "      <td>2000.0</td>\n",
       "      <td>13</td>\n",
       "    </tr>\n",
       "  </tbody>\n",
       "</table>\n",
       "</div>"
      ],
      "text/plain": [
       "                     Song        Artist  Release_Year  PlayCount\n",
       "0        Caught Up in You   .38 Special        1982.0         82\n",
       "1         Hold On Loosely   .38 Special        1981.0         85\n",
       "2  Rockin' Into the Night   .38 Special        1980.0         18\n",
       "3       Art For Arts Sake          10cc        1975.0          1\n",
       "4              Kryptonite  3 Doors Down        2000.0         13"
      ]
     },
     "execution_count": 51,
     "metadata": {},
     "output_type": "execute_result"
    }
   ],
   "source": [
    "data.head()"
   ]
  },
  {
   "cell_type": "code",
   "execution_count": null,
   "id": "80f0c37e",
   "metadata": {},
   "outputs": [],
   "source": []
  }
 ],
 "metadata": {
  "kernelspec": {
   "display_name": "Python 3 (ipykernel)",
   "language": "python",
   "name": "python3"
  },
  "language_info": {
   "codemirror_mode": {
    "name": "ipython",
    "version": 3
   },
   "file_extension": ".py",
   "mimetype": "text/x-python",
   "name": "python",
   "nbconvert_exporter": "python",
   "pygments_lexer": "ipython3",
   "version": "3.9.13"
  }
 },
 "nbformat": 4,
 "nbformat_minor": 5
}
